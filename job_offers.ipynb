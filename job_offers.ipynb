{
 "cells": [
  {
   "cell_type": "markdown",
   "id": "37d207b2-0bd4-4fe1-97bc-e41ea9abf5f8",
   "metadata": {},
   "source": [
    "# Scraping Job Offers From \"getonboard\""
   ]
  },
  {
   "cell_type": "markdown",
   "id": "7b50cec3-2f9c-44e3-801e-d71c40501c48",
   "metadata": {},
   "source": [
    "- Get on Board is platform to find and apply to jobs in startups and tech companies.\n",
    "- Used tools: Python, Pandas, requests, Beautiful Soup."
   ]
  },
  {
   "cell_type": "markdown",
   "id": "699ebeea-d27f-48c5-a5d0-be933d7c0bd2",
   "metadata": {},
   "source": [
    "### Steps:\n",
    "- Scrape https://www.getonbrd.com/\n",
    "- Get a list of links to job fields\n",
    "- For each link, get the items (job offers)\n",
    "- Visit each job offer of items and get the:\n",
    "    - Company Name\n",
    "    - Gross Salary\n",
    "    - Qualification\n",
    "    - Job Title\n",
    "    - Location\n",
    "    - Working Hours\n",
    "    - Published Date\n",
    "    - Job Field Name\n",
    "    - Job Offer Link\n",
    "- Make a list of all job offers\n",
    "- Make a DataFrame from the list\n",
    "- Export to a csv format"
   ]
  },
  {
   "cell_type": "code",
   "execution_count": 3,
   "id": "15656042-c51d-496a-a677-d51543e59318",
   "metadata": {},
   "outputs": [],
   "source": [
    "# Import the packages\n",
    "import requests\n",
    "import lxml\n",
    "from bs4 import BeautifulSoup"
   ]
  },
  {
   "cell_type": "code",
   "execution_count": 47,
   "id": "4ebcc670-5528-4624-b199-fbd931339017",
   "metadata": {},
   "outputs": [],
   "source": [
    "# Request the main url\n",
    "url = 'https://www.getonbrd.com'\n",
    "r = requests.get(url)"
   ]
  },
  {
   "cell_type": "code",
   "execution_count": 48,
   "id": "464ec613-f90f-47fb-9e0e-125b6d222b0e",
   "metadata": {},
   "outputs": [
    {
     "name": "stdout",
     "output_type": "stream",
     "text": [
      "200\n",
      "<class 'bytes'>\n"
     ]
    }
   ],
   "source": [
    "# Check the request\n",
    "print(r.status_code)\n",
    "print(type(r.content))"
   ]
  },
  {
   "cell_type": "code",
   "execution_count": 50,
   "id": "95fd3940-f950-4adb-b4ba-a58ad0902dd6",
   "metadata": {},
   "outputs": [],
   "source": [
    "# Parse the request content\n",
    "soup = BeautifulSoup(r.content, 'lxml')"
   ]
  },
  {
   "cell_type": "code",
   "execution_count": 54,
   "id": "35546468-4c50-40d5-96ca-343a69c1d8d8",
   "metadata": {},
   "outputs": [
    {
     "data": {
      "text/plain": [
       "[<a class=\"gb-tags__item\" href=\"/jobs/design-ux\">Design / UX</a>,\n",
       " <a class=\"gb-tags__item\" href=\"/jobs/programming\">Programming</a>,\n",
       " <a class=\"gb-tags__item\" href=\"/jobs/data-science-analytics\">Data Science / Analytics</a>,\n",
       " <a class=\"gb-tags__item\" href=\"/jobs/mobile-developer\">Mobile Development</a>,\n",
       " <a class=\"gb-tags__item\" href=\"/jobs/digital-marketing\">Digital Marketing</a>,\n",
       " <a class=\"gb-tags__item\" href=\"/jobs/sysadmin-devops-qa\">SysAdmin / DevOps / QA</a>,\n",
       " <a class=\"gb-tags__item\" href=\"/jobs/sales\">Sales</a>,\n",
       " <a class=\"gb-tags__item\" href=\"/jobs/innovation-agile\">Product, Innovation &amp; Agile</a>]"
      ]
     },
     "execution_count": 54,
     "metadata": {},
     "output_type": "execute_result"
    }
   ],
   "source": [
    "# Get the tags of the job fields\n",
    "sections = soup.find_all('a', attrs = {'class': 'gb-tags__item'})\n",
    "sections"
   ]
  },
  {
   "cell_type": "code",
   "execution_count": 58,
   "id": "7238b8e8-bb3c-49be-b6ed-e7c7651ca94d",
   "metadata": {},
   "outputs": [
    {
     "data": {
      "text/plain": [
       "['/jobs/design-ux',\n",
       " '/jobs/programming',\n",
       " '/jobs/data-science-analytics',\n",
       " '/jobs/mobile-developer',\n",
       " '/jobs/digital-marketing',\n",
       " '/jobs/sysadmin-devops-qa',\n",
       " '/jobs/sales',\n",
       " '/jobs/innovation-agile']"
      ]
     },
     "execution_count": 58,
     "metadata": {},
     "output_type": "execute_result"
    }
   ],
   "source": [
    "# Make a list of the relative paths to the job fields\n",
    "links= []\n",
    "for s in sections:\n",
    "    links.append(s.get('href'))\n",
    "\n",
    "links"
   ]
  },
  {
   "cell_type": "code",
   "execution_count": 165,
   "id": "da8929a6-e96a-4352-a7b8-b3331d6b012f",
   "metadata": {},
   "outputs": [],
   "source": [
    "# Function to extract the required attributes\n",
    "def job_search(items):\n",
    "    \n",
    "    jobs = []\n",
    "    \n",
    "    # \"Items\" is the main container for job offers\n",
    "    for item in items:\n",
    "\n",
    "        # Get the link to the job offer page\n",
    "        link = item.get('href')\n",
    "        \n",
    "        # Request the job offer url\n",
    "        r = requests.get(link)\n",
    "        \n",
    "        # Parse the url content\n",
    "        soup = BeautifulSoup(r.content, 'lxml')\n",
    "\n",
    "        \n",
    "        # Search for the required attributes\n",
    "        company = soup.find('strong', attrs={'itemprop': 'name'}).get_text()\n",
    "        date = soup.find('time').get_text()\n",
    "        title = soup.find('span', attrs={'itemprop': 'title'}).text\n",
    "        location = soup.find('span', attrs={'class': 'location'}).get_text()\n",
    "        try:\n",
    "            qualification = soup.find('span', attrs={'itemprop': 'qualifications'}).text\n",
    "        except:\n",
    "            qualification = 'Unknown'\n",
    "        working_hours = soup.find('h2', attrs={'class': 'size1 mb-3 w400 lh2'}).text\n",
    "\n",
    "\n",
    "\n",
    "        try:\n",
    "            gross_salary = soup.find('span', attrs={'itemprop': 'baseSalary'}).text\n",
    "        except:\n",
    "            gross_salary = 'Unknown'\n",
    "\n",
    "\n",
    "        # Append a dictionary of the attributes for each job to the list \"Jobs\"\n",
    "        jobs.append(\n",
    "            {\n",
    "                'company': company,\n",
    "                'date': date.replace('\\n', ''),\n",
    "                'title': title.replace('\\n', ''),\n",
    "                'location': location.replace('\\n', '').replace('\\xa0', ''),\n",
    "                'qualification': qualification.replace('\\n', ''),\n",
    "                'working_hours': working_hours.replace('\\n', '').replace('\\xa0', '').split('|')[-2],\n",
    "                'job_field': working_hours.replace('\\n', '').replace('\\xa0', '').split('|')[-1],\n",
    "                'link': link,\n",
    "                'gross_salary': gross_salary.replace('\\n', '')\n",
    "            }\n",
    "        )\n",
    "        \n",
    "    # Return the list\n",
    "    return jobs"
   ]
  },
  {
   "cell_type": "code",
   "execution_count": 175,
   "id": "b5cacbe4-5de8-4715-a44a-04a8d11fa64e",
   "metadata": {},
   "outputs": [],
   "source": [
    "# Empty list\n",
    "jobs = []\n",
    "\n",
    "# For each job field URL apply the function \"search_job\"\n",
    "for link in links:\n",
    "    r = requests.get(url+link)\n",
    "    s = BeautifulSoup(r.content, 'lxml')\n",
    "    \n",
    "    # \"Items\" is the main container for job offers\n",
    "    items = s.find_all('a', attrs={'class': 'color-hierarchy2 gb-results-list__item'})\n",
    "    \n",
    "    # Extend the final list with the results of each loop\n",
    "    jobs.extend(job_search(items))\n",
    "    "
   ]
  },
  {
   "cell_type": "code",
   "execution_count": 176,
   "id": "d605a04e-0fc1-42bd-b803-64c1b12691a9",
   "metadata": {},
   "outputs": [
    {
     "data": {
      "text/plain": [
       "695"
      ]
     },
     "execution_count": 176,
     "metadata": {},
     "output_type": "execute_result"
    }
   ],
   "source": [
    "# Number of jobs \n",
    "len(jobs)"
   ]
  },
  {
   "cell_type": "code",
   "execution_count": 178,
   "id": "9d289d2b-2aed-4cb1-8b12-a5185f5ef2c2",
   "metadata": {},
   "outputs": [
    {
     "data": {
      "text/plain": [
       "[{'company': 'MATCH · Agencia-consultora',\n",
       "  'date': 'November 11, 2022',\n",
       "  'title': 'Design UX/UI Semi Senior',\n",
       "  'location': 'Santiago(hybrid)',\n",
       "  'qualification': 'Semi Senior',\n",
       "  'working_hours': 'Full time',\n",
       "  'job_field': 'Design / UX',\n",
       "  'link': 'https://www.getonbrd.com/jobs/design-ux/desing-ux-ui-semi-senior-match-agencia-consultora-santiago',\n",
       "  'gross_salary': 'Gross Salary$1600 - 2200USD/month'},\n",
       " {'company': '2Brains',\n",
       "  'date': 'November 11, 2022',\n",
       "  'title': 'Practicante Digital Designer',\n",
       "  'location': 'Santiago(hybrid)',\n",
       "  'qualification': 'Unknown',\n",
       "  'working_hours': 'Internship',\n",
       "  'job_field': 'Design / UX',\n",
       "  'link': 'https://www.getonbrd.com/jobs/design-ux/practicante-digital-designer-2brains-santiago',\n",
       "  'gross_salary': 'Unknown'},\n",
       " {'company': '2Brains',\n",
       "  'date': 'November 11, 2022',\n",
       "  'title': 'Product Designer Senior',\n",
       "  'location': 'Santiago(hybrid)',\n",
       "  'qualification': 'Senior',\n",
       "  'working_hours': 'Full time',\n",
       "  'job_field': 'Design / UX',\n",
       "  'link': 'https://www.getonbrd.com/jobs/design-ux/product-designer-senior-2brains-santiago',\n",
       "  'gross_salary': 'Unknown'},\n",
       " {'company': '2Brains',\n",
       "  'date': 'November 11, 2022',\n",
       "  'title': 'UX Designer',\n",
       "  'location': 'Santiago(hybrid)',\n",
       "  'qualification': 'Semi Senior',\n",
       "  'working_hours': 'Full time',\n",
       "  'job_field': 'Design / UX',\n",
       "  'link': 'https://www.getonbrd.com/jobs/design-ux/ux-designer-2brains-santiago-f6b5',\n",
       "  'gross_salary': 'Unknown'},\n",
       " {'company': '2Brains',\n",
       "  'date': 'November 11, 2022',\n",
       "  'title': 'Email MKT Designer Semi Senior',\n",
       "  'location': 'Santiago(hybrid)',\n",
       "  'qualification': 'Semi Senior',\n",
       "  'working_hours': 'Full time',\n",
       "  'job_field': 'Design / UX',\n",
       "  'link': 'https://www.getonbrd.com/jobs/design-ux/email-mkt-designer-semi-senior-2brains-santiago',\n",
       "  'gross_salary': 'Unknown'}]"
      ]
     },
     "execution_count": 178,
     "metadata": {},
     "output_type": "execute_result"
    }
   ],
   "source": [
    "# Overview\n",
    "jobs[:5]"
   ]
  },
  {
   "cell_type": "code",
   "execution_count": 179,
   "id": "8098a9e4-b8c1-4e78-b492-349d9891012e",
   "metadata": {},
   "outputs": [],
   "source": [
    "import pandas as pd"
   ]
  },
  {
   "cell_type": "code",
   "execution_count": 183,
   "id": "0a40b683-9a72-4d66-9e27-74ae70f520a6",
   "metadata": {},
   "outputs": [
    {
     "data": {
      "text/html": [
       "<div>\n",
       "<style scoped>\n",
       "    .dataframe tbody tr th:only-of-type {\n",
       "        vertical-align: middle;\n",
       "    }\n",
       "\n",
       "    .dataframe tbody tr th {\n",
       "        vertical-align: top;\n",
       "    }\n",
       "\n",
       "    .dataframe thead th {\n",
       "        text-align: right;\n",
       "    }\n",
       "</style>\n",
       "<table border=\"1\" class=\"dataframe\">\n",
       "  <thead>\n",
       "    <tr style=\"text-align: right;\">\n",
       "      <th></th>\n",
       "      <th>company</th>\n",
       "      <th>date</th>\n",
       "      <th>title</th>\n",
       "      <th>location</th>\n",
       "      <th>qualification</th>\n",
       "      <th>working_hours</th>\n",
       "      <th>job_field</th>\n",
       "      <th>link</th>\n",
       "      <th>gross_salary</th>\n",
       "    </tr>\n",
       "  </thead>\n",
       "  <tbody>\n",
       "    <tr>\n",
       "      <th>0</th>\n",
       "      <td>MATCH · Agencia-consultora</td>\n",
       "      <td>November 11, 2022</td>\n",
       "      <td>Design UX/UI Semi Senior</td>\n",
       "      <td>Santiago(hybrid)</td>\n",
       "      <td>Semi Senior</td>\n",
       "      <td>Full time</td>\n",
       "      <td>Design / UX</td>\n",
       "      <td>https://www.getonbrd.com/jobs/design-ux/desing...</td>\n",
       "      <td>Gross Salary$1600 - 2200USD/month</td>\n",
       "    </tr>\n",
       "    <tr>\n",
       "      <th>1</th>\n",
       "      <td>2Brains</td>\n",
       "      <td>November 11, 2022</td>\n",
       "      <td>Practicante Digital Designer</td>\n",
       "      <td>Santiago(hybrid)</td>\n",
       "      <td>Unknown</td>\n",
       "      <td>Internship</td>\n",
       "      <td>Design / UX</td>\n",
       "      <td>https://www.getonbrd.com/jobs/design-ux/practi...</td>\n",
       "      <td>Unknown</td>\n",
       "    </tr>\n",
       "    <tr>\n",
       "      <th>2</th>\n",
       "      <td>2Brains</td>\n",
       "      <td>November 11, 2022</td>\n",
       "      <td>Product Designer Senior</td>\n",
       "      <td>Santiago(hybrid)</td>\n",
       "      <td>Senior</td>\n",
       "      <td>Full time</td>\n",
       "      <td>Design / UX</td>\n",
       "      <td>https://www.getonbrd.com/jobs/design-ux/produc...</td>\n",
       "      <td>Unknown</td>\n",
       "    </tr>\n",
       "    <tr>\n",
       "      <th>3</th>\n",
       "      <td>2Brains</td>\n",
       "      <td>November 11, 2022</td>\n",
       "      <td>UX Designer</td>\n",
       "      <td>Santiago(hybrid)</td>\n",
       "      <td>Semi Senior</td>\n",
       "      <td>Full time</td>\n",
       "      <td>Design / UX</td>\n",
       "      <td>https://www.getonbrd.com/jobs/design-ux/ux-des...</td>\n",
       "      <td>Unknown</td>\n",
       "    </tr>\n",
       "    <tr>\n",
       "      <th>4</th>\n",
       "      <td>2Brains</td>\n",
       "      <td>November 11, 2022</td>\n",
       "      <td>Email MKT Designer Semi Senior</td>\n",
       "      <td>Santiago(hybrid)</td>\n",
       "      <td>Semi Senior</td>\n",
       "      <td>Full time</td>\n",
       "      <td>Design / UX</td>\n",
       "      <td>https://www.getonbrd.com/jobs/design-ux/email-...</td>\n",
       "      <td>Unknown</td>\n",
       "    </tr>\n",
       "  </tbody>\n",
       "</table>\n",
       "</div>"
      ],
      "text/plain": [
       "                      company               date  \\\n",
       "0  MATCH · Agencia-consultora  November 11, 2022   \n",
       "1                     2Brains  November 11, 2022   \n",
       "2                     2Brains  November 11, 2022   \n",
       "3                     2Brains  November 11, 2022   \n",
       "4                     2Brains  November 11, 2022   \n",
       "\n",
       "                            title          location qualification  \\\n",
       "0        Design UX/UI Semi Senior  Santiago(hybrid)   Semi Senior   \n",
       "1    Practicante Digital Designer  Santiago(hybrid)       Unknown   \n",
       "2         Product Designer Senior  Santiago(hybrid)        Senior   \n",
       "3                     UX Designer  Santiago(hybrid)   Semi Senior   \n",
       "4  Email MKT Designer Semi Senior  Santiago(hybrid)   Semi Senior   \n",
       "\n",
       "  working_hours    job_field  \\\n",
       "0     Full time  Design / UX   \n",
       "1    Internship  Design / UX   \n",
       "2     Full time  Design / UX   \n",
       "3     Full time  Design / UX   \n",
       "4     Full time  Design / UX   \n",
       "\n",
       "                                                link  \\\n",
       "0  https://www.getonbrd.com/jobs/design-ux/desing...   \n",
       "1  https://www.getonbrd.com/jobs/design-ux/practi...   \n",
       "2  https://www.getonbrd.com/jobs/design-ux/produc...   \n",
       "3  https://www.getonbrd.com/jobs/design-ux/ux-des...   \n",
       "4  https://www.getonbrd.com/jobs/design-ux/email-...   \n",
       "\n",
       "                        gross_salary  \n",
       "0  Gross Salary$1600 - 2200USD/month  \n",
       "1                            Unknown  \n",
       "2                            Unknown  \n",
       "3                            Unknown  \n",
       "4                            Unknown  "
      ]
     },
     "execution_count": 183,
     "metadata": {},
     "output_type": "execute_result"
    }
   ],
   "source": [
    "# Convert the list into a DataFrame\n",
    "df = pd.DataFrame(jobs)\n",
    "df.head()"
   ]
  },
  {
   "cell_type": "code",
   "execution_count": 184,
   "id": "7e58d246-ca59-4f14-be6c-6d1a8b6da243",
   "metadata": {},
   "outputs": [
    {
     "data": {
      "text/plain": [
       "(695, 9)"
      ]
     },
     "execution_count": 184,
     "metadata": {},
     "output_type": "execute_result"
    }
   ],
   "source": [
    "# Number of rows and columns\n",
    "df.shape"
   ]
  },
  {
   "cell_type": "code",
   "execution_count": 186,
   "id": "767ead3d-edc7-44ef-b2eb-264d8cdc8d26",
   "metadata": {},
   "outputs": [],
   "source": [
    "df.to_csv('getonboard_joboffers.csv')"
   ]
  }
 ],
 "metadata": {
  "kernelspec": {
   "display_name": "Python 3 (ipykernel)",
   "language": "python",
   "name": "python3"
  },
  "language_info": {
   "codemirror_mode": {
    "name": "ipython",
    "version": 3
   },
   "file_extension": ".py",
   "mimetype": "text/x-python",
   "name": "python",
   "nbconvert_exporter": "python",
   "pygments_lexer": "ipython3",
   "version": "3.9.7"
  }
 },
 "nbformat": 4,
 "nbformat_minor": 5
}
